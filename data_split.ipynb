{
 "cells": [
  {
   "cell_type": "code",
   "execution_count": 2,
   "metadata": {},
   "outputs": [],
   "source": [
    "from update_utilities import update_utilities_class"
   ]
  },
  {
   "cell_type": "code",
   "execution_count": 110,
   "metadata": {},
   "outputs": [
    {
     "name": "stdout",
     "output_type": "stream",
     "text": [
      "File copied, now the file is available to import from the destinated path\n"
     ]
    }
   ],
   "source": [
    "import os\n",
    "update_utilities_class(file_name=\"general_functions.py\",current_path=os.getcwd()).run()"
   ]
  },
  {
   "cell_type": "code",
   "execution_count": 111,
   "metadata": {},
   "outputs": [],
   "source": [
    "import general_functions"
   ]
  },
  {
   "cell_type": "code",
   "execution_count": 112,
   "metadata": {},
   "outputs": [],
   "source": [
    "h = general_functions.HelperFunctionsClass()"
   ]
  },
  {
   "cell_type": "markdown",
   "metadata": {},
   "source": [
    "# Dark Artifices Series"
   ]
  },
  {
   "cell_type": "code",
   "execution_count": 71,
   "metadata": {},
   "outputs": [
    {
     "name": "stdout",
     "output_type": "stream",
     "text": [
      "This book contains 3837853 chars\n"
     ]
    }
   ],
   "source": [
    "with open(\"Cleaned Books/the_dark_artifices-processed.txt\", \"r\") as f:\n",
    "    book_das = f.read()\n",
    "print(f\"This book contains {len(book_das)} chars\")"
   ]
  },
  {
   "cell_type": "code",
   "execution_count": 72,
   "metadata": {},
   "outputs": [],
   "source": [
    "book1_train, book1_val, end_idx = h.train_test_split(text=book_das,book_start_token=True, ratio=0.9, starting_idx=0)"
   ]
  },
  {
   "cell_type": "code",
   "execution_count": 73,
   "metadata": {},
   "outputs": [
    {
     "data": {
      "text/plain": [
       "'-offering. \"Why lie?\" he said. <|startofbook|><|title|>Lord '"
      ]
     },
     "execution_count": 73,
     "metadata": {},
     "output_type": "execute_result"
    }
   ],
   "source": [
    "book_das[end_idx-30: end_idx+30]"
   ]
  },
  {
   "cell_type": "code",
   "execution_count": 74,
   "metadata": {},
   "outputs": [],
   "source": [
    "book2_train, book2_val, end_idx = h.train_test_split(text=book_das,book_start_token=True, ratio=0.9, starting_idx=end_idx)"
   ]
  },
  {
   "cell_type": "code",
   "execution_count": 75,
   "metadata": {},
   "outputs": [
    {
     "data": {
      "text/plain": [
       "'clock began to chime the hour. <|startofbook|><|title|>Queen'"
      ]
     },
     "execution_count": 75,
     "metadata": {},
     "output_type": "execute_result"
    }
   ],
   "source": [
    "book_das[end_idx-30: end_idx+30]"
   ]
  },
  {
   "cell_type": "code",
   "execution_count": 76,
   "metadata": {},
   "outputs": [
    {
     "data": {
      "text/plain": [
       "' Their blades clanged together'"
      ]
     },
     "execution_count": 76,
     "metadata": {},
     "output_type": "execute_result"
    }
   ],
   "source": [
    "book2_val[:30]"
   ]
  },
  {
   "cell_type": "code",
   "execution_count": 77,
   "metadata": {},
   "outputs": [
    {
     "data": {
      "text/plain": [
       "'clock began to chime the hour.'"
      ]
     },
     "execution_count": 77,
     "metadata": {},
     "output_type": "execute_result"
    }
   ],
   "source": [
    "book2_val[-30:]"
   ]
  },
  {
   "cell_type": "code",
   "execution_count": 78,
   "metadata": {},
   "outputs": [],
   "source": [
    "book3_train, book3_val, _ = h.train_test_split(text=book_das,book_start_token=True, ratio=0.9, starting_idx=end_idx)"
   ]
  },
  {
   "cell_type": "code",
   "execution_count": 79,
   "metadata": {},
   "outputs": [
    {
     "data": {
      "text/plain": [
       "' The Silent Brothers looked in'"
      ]
     },
     "execution_count": 79,
     "metadata": {},
     "output_type": "execute_result"
    }
   ],
   "source": [
    "book3_val[:30]"
   ]
  },
  {
   "cell_type": "code",
   "execution_count": 80,
   "metadata": {},
   "outputs": [
    {
     "data": {
      "text/plain": [
       "' to bring me Clary Fairchild.\"'"
      ]
     },
     "execution_count": 80,
     "metadata": {},
     "output_type": "execute_result"
    }
   ],
   "source": [
    "book3_val[-30:]"
   ]
  },
  {
   "cell_type": "code",
   "execution_count": 81,
   "metadata": {},
   "outputs": [
    {
     "name": "stdout",
     "output_type": "stream",
     "text": [
      "Total length of training set is 3454332\n",
      "Total length of validation set is 383520\n"
     ]
    }
   ],
   "source": [
    "book_das_train = book1_train + book2_train + book3_train\n",
    "book_das_val = book1_val + book2_val + book3_val\n",
    "print(f\"Total length of training set is {len(book_das_train)}\")\n",
    "print(f\"Total length of validation set is {len(book_das_val)}\")"
   ]
  },
  {
   "cell_type": "code",
   "execution_count": 82,
   "metadata": {},
   "outputs": [
    {
     "data": {
      "text/plain": [
       "'<|startofbook|><|tit'"
      ]
     },
     "execution_count": 82,
     "metadata": {},
     "output_type": "execute_result"
    }
   ],
   "source": [
    "book_das_train[:20]"
   ]
  },
  {
   "cell_type": "code",
   "execution_count": 83,
   "metadata": {},
   "outputs": [
    {
     "data": {
      "text/plain": [
       "'ad never been drawn.'"
      ]
     },
     "execution_count": 83,
     "metadata": {},
     "output_type": "execute_result"
    }
   ],
   "source": [
    "book_das_train[-20:]"
   ]
  },
  {
   "cell_type": "markdown",
   "metadata": {},
   "source": [
    "# mortal instruments"
   ]
  },
  {
   "cell_type": "code",
   "execution_count": 84,
   "metadata": {},
   "outputs": [
    {
     "name": "stdout",
     "output_type": "stream",
     "text": [
      "Total length of the book is 4164460\n"
     ]
    }
   ],
   "source": [
    "with open(\"Cleaned Books/the_mortal_instruments-processed.txt\", \"r\") as f:\n",
    "    book_tmi = f.read()\n",
    "print(f\"Total length of the book is {len(book_tmi)}\")"
   ]
  },
  {
   "cell_type": "code",
   "execution_count": 85,
   "metadata": {},
   "outputs": [],
   "source": [
    "book = book_tmi\n",
    "book1_train, book1_val, end_idx = h.train_test_split(text=book,book_start_token=True, ratio=0.9, starting_idx=0)\n",
    "book2_train, book2_val, end_idx = h.train_test_split(text=book,book_start_token=True, ratio=0.9, starting_idx=end_idx)\n",
    "book3_train, book3_val, end_idx = h.train_test_split(text=book,book_start_token=True, ratio=0.9, starting_idx=end_idx)\n",
    "book4_train, book4_val, end_idx = h.train_test_split(text=book,book_start_token=True, ratio=0.9, starting_idx=end_idx)\n",
    "book5_train, book5_val, _ = h.train_test_split(text=book,book_start_token=True, ratio=0.9, starting_idx=end_idx)"
   ]
  },
  {
   "cell_type": "code",
   "execution_count": 86,
   "metadata": {},
   "outputs": [
    {
     "name": "stdout",
     "output_type": "stream",
     "text": [
      "Total length of text is 4164459\n"
     ]
    }
   ],
   "source": [
    "book_tmi_train = book1_train + book2_train +book3_train+book4_train+book5_train\n",
    "book_tmi_val = book1_val+book2_val+book3_val+book4_val+book5_val\n",
    "print(f\"Total length of text is {len(book_tmi_train) + len(book_tmi_val)}\")"
   ]
  },
  {
   "cell_type": "code",
   "execution_count": 98,
   "metadata": {},
   "outputs": [
    {
     "data": {
      "text/plain": [
       "'\" snapped Clary. \"People died in it! Shadowhunters like you!'"
      ]
     },
     "execution_count": 98,
     "metadata": {},
     "output_type": "execute_result"
    }
   ],
   "source": [
    "book1_val[:60]"
   ]
  },
  {
   "cell_type": "markdown",
   "metadata": {},
   "source": [
    "# Court of Thrones series"
   ]
  },
  {
   "cell_type": "code",
   "execution_count": 99,
   "metadata": {},
   "outputs": [
    {
     "name": "stdout",
     "output_type": "stream",
     "text": [
      "Total length of the book is 3314368\n"
     ]
    }
   ],
   "source": [
    "with open(\"Cleaned Books/court_of_series-processed.txt\", \"r\") as f:\n",
    "    book_cot = f.read()\n",
    "print(f\"Total length of the book is {len(book_cot)}\")"
   ]
  },
  {
   "cell_type": "code",
   "execution_count": 100,
   "metadata": {},
   "outputs": [],
   "source": [
    "book = book_cot\n",
    "book1_train, book1_val, end_idx = h.train_test_split(text=book,book_start_token=True, ratio=0.9, starting_idx=0)\n",
    "book2_train, book2_val, end_idx = h.train_test_split(text=book,book_start_token=True, ratio=0.9, starting_idx=end_idx)\n",
    "book3_train, book3_val, end_idx = h.train_test_split(text=book,book_start_token=True, ratio=0.9, starting_idx=end_idx)\n",
    "book4_train, book4_val, end_idx = h.train_test_split(text=book,book_start_token=True, ratio=0.9, starting_idx=end_idx)"
   ]
  },
  {
   "cell_type": "code",
   "execution_count": 101,
   "metadata": {},
   "outputs": [
    {
     "name": "stdout",
     "output_type": "stream",
     "text": [
      "Total length of text is 3314367\n"
     ]
    }
   ],
   "source": [
    "book_cot_train = book1_train + book2_train +book3_train+book4_train\n",
    "book_cot_val = book1_val+book2_val+book3_val+book4_val\n",
    "print(f\"Total length of text is {len(book_cot_train) + len(book_cot_val)}\")"
   ]
  },
  {
   "cell_type": "markdown",
   "metadata": {},
   "source": [
    "# Throne of Glass series"
   ]
  },
  {
   "cell_type": "code",
   "execution_count": 103,
   "metadata": {},
   "outputs": [
    {
     "name": "stdout",
     "output_type": "stream",
     "text": [
      "Total length of the book is 7562164\n"
     ]
    }
   ],
   "source": [
    "with open(\"Cleaned Books/throne_of_glass-processed.txt\", \"r\") as f:\n",
    "    book_tog = f.read()\n",
    "print(f\"Total length of the book is {len(book_tog)}\")"
   ]
  },
  {
   "cell_type": "code",
   "execution_count": 105,
   "metadata": {},
   "outputs": [],
   "source": [
    "book = book_tog\n",
    "book1_train, book1_val, end_idx = h.train_test_split(text=book,book_start_token=True, ratio=0.9, starting_idx=0)\n",
    "book2_train, book2_val, end_idx = h.train_test_split(text=book,book_start_token=True, ratio=0.9, starting_idx=end_idx)\n",
    "book3_train, book3_val, end_idx = h.train_test_split(text=book,book_start_token=True, ratio=0.9, starting_idx=end_idx)\n",
    "book4_train, book4_val, end_idx = h.train_test_split(text=book,book_start_token=True, ratio=0.9, starting_idx=end_idx)\n",
    "book5_train, book5_val, end_idx  = h.train_test_split(text=book,book_start_token=True, ratio=0.9, starting_idx=end_idx)\n",
    "book6_train, book6_val, end_idx  = h.train_test_split(text=book,book_start_token=True, ratio=0.9, starting_idx=end_idx)\n",
    "book7_train, book7_val, end_idx  = h.train_test_split(text=book,book_start_token=True, ratio=0.9, starting_idx=end_idx)\n",
    "book8_train, book8_val, _  = h.train_test_split(text=book,book_start_token=True, ratio=0.9, starting_idx=end_idx)"
   ]
  },
  {
   "cell_type": "code",
   "execution_count": 106,
   "metadata": {},
   "outputs": [
    {
     "name": "stdout",
     "output_type": "stream",
     "text": [
      "Total length of text is 7562163\n"
     ]
    }
   ],
   "source": [
    "book_tog_train = book1_train + book2_train +book3_train+book4_train+book5_train+book6_train+book7_train+book8_train\n",
    "book_tog_val = book1_val+book2_val+book3_val+book4_val+book5_val+book6_val+book7_val+book8_val\n",
    "print(f\"Total length of text is {len(book_tog_train) + len(book_tog_val)}\")"
   ]
  },
  {
   "cell_type": "markdown",
   "metadata": {},
   "source": [
    "# Comining all books"
   ]
  },
  {
   "cell_type": "code",
   "execution_count": 107,
   "metadata": {},
   "outputs": [
    {
     "name": "stdout",
     "output_type": "stream",
     "text": [
      "Total length of training data is 16991929\n",
      "Total length of validation data is 1886918\n"
     ]
    }
   ],
   "source": [
    "train_data = book_tog_train + \" \" + book_cot_train + \" \" + book_das_train + \" \" + book_tmi_train\n",
    "val_data = book_tog_val + \" \" + book_cot_val + \" \" + book_das_val + \" \" + book_tmi_val\n",
    "print(f\"Total length of training data is {len(train_data)}\")\n",
    "print(f\"Total length of validation data is {len(val_data)}\")"
   ]
  },
  {
   "cell_type": "code",
   "execution_count": 108,
   "metadata": {},
   "outputs": [],
   "source": [
    "with open(\"training_data/train_data_text.txt\", \"w\") as f:\n",
    "    f.write(train_data)\n",
    "with open(\"training_data/val_data_text.txt\",\"w\") as f:\n",
    "    f.write(val_data)"
   ]
  },
  {
   "cell_type": "code",
   "execution_count": null,
   "metadata": {},
   "outputs": [],
   "source": []
  }
 ],
 "metadata": {
  "kernelspec": {
   "display_name": "Python 3",
   "language": "python",
   "name": "python3"
  },
  "language_info": {
   "codemirror_mode": {
    "name": "ipython",
    "version": 3
   },
   "file_extension": ".py",
   "mimetype": "text/x-python",
   "name": "python",
   "nbconvert_exporter": "python",
   "pygments_lexer": "ipython3",
   "version": "3.11.7"
  }
 },
 "nbformat": 4,
 "nbformat_minor": 2
}
